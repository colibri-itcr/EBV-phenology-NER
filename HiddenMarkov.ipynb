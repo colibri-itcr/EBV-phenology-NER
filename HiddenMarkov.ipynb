{
 "cells": [
  {
   "cell_type": "code",
   "execution_count": 1,
   "id": "ef15ddf2-6a06-45fa-ac78-d8183ac7a79d",
   "metadata": {
    "tags": []
   },
   "outputs": [],
   "source": [
    "import matplotlib.pyplot as plt\n",
    "import numpy as np\n",
    "import pandas as pd\n",
    "\n",
    "from collections import Counter, defaultdict, namedtuple, OrderedDict\n",
    "from pomegranate import State, HiddenMarkovModel, DiscreteDistribution\n",
    "import os\n",
    "\n",
    "import matplotlib.pyplot as plt\n",
    "\n",
    "import itertools\n",
    "\n",
    "import seaborn as sn\n",
    "\n",
    "from sklearn.preprocessing import MultiLabelBinarizer\n",
    "from sklearn.metrics import classification_report, confusion_matrix\n",
    "from sklearn.model_selection import train_test_split"
   ]
  },
  {
   "cell_type": "code",
   "execution_count": 2,
   "id": "5c223e00-f744-4660-9474-f70379dd4d0d",
   "metadata": {},
   "outputs": [],
   "source": [
    "# Replaces unknown values for nan\n",
    "def replace_unknown(sequence):\n",
    "    \n",
    "    return [w if w in trainVocab else 'nan' for w in sequence]\n",
    "\n",
    "\n",
    "def simplify_decoding(X, model):\n",
    "    \n",
    "    _, state_path = model.viterbi(replace_unknown(X))\n",
    "    return [state[1].name for state in state_path[1:-1]]\n",
    "\n",
    "# Function that calculates the accuracy of the model,\n",
    "# it receives the data separated in tokens and tags (X and Y)\n",
    "# and the model in question\n",
    "def accuracy(X, Y, model):\n",
    "    \n",
    "    correct = total_predictions = 0\n",
    "    predictions = []\n",
    "    for observations, actual_tags in zip(X, Y):\n",
    "        \n",
    "        # The model.viterbi call in simplify_decoding will return None if the HMM\n",
    "        # raises an error (for example, if a test sentence contains a word that\n",
    "        # is out of vocabulary for the training set). Any exception counts the\n",
    "        # full sentence as an error (which makes this a conservative estimate).\n",
    "        try:\n",
    "\n",
    "            most_likely_tags = simplify_decoding(observations, model)\n",
    "            predictions.extend(most_likely_tags)\n",
    "            correct += sum(p == t for p, t in zip(most_likely_tags, actual_tags))\n",
    "        except:\n",
    "            pass\n",
    "        total_predictions += len(observations)\n",
    "    return correct / total_predictions , predictions\n"
   ]
  },
  {
   "cell_type": "code",
   "execution_count": 3,
   "id": "6be44470-52a3-4d03-b016-ff61bf46831c",
   "metadata": {},
   "outputs": [],
   "source": [
    "# Returns a dictionary that contains how many times\n",
    "# an element appears in the sequence\n",
    "def counts(sequences):\n",
    "\n",
    "    return Counter(sequences)\n",
    "\n",
    "\n",
    "# Function that makes a dictionary counting the appearance\n",
    "# of every pair of (tag,word). Returns the created dictionary\n",
    "def pair_counts(tags, words):\n",
    "    d = defaultdict(lambda: defaultdict(int))\n",
    "    for tag, word in zip(tags, words):\n",
    "        d[tag][word] += 1\n",
    "    \n",
    "    return d\n",
    "\n",
    "\n",
    "# Function that makes a dictionary counting how often in the datasey\n",
    "# a pair of tags appear together. Returns the created dictionary\n",
    "def tag_bigram(tags):\n",
    "    \n",
    "    d = defaultdict(lambda: defaultdict(int))\n",
    "    for pair in [p for p in itertools.product(['B','I','O'], repeat=2)]:\n",
    "        d[pair] = 0\n",
    "        \n",
    "    for tag_pair in [(tags[i],tags[i+1]) for i in range(0,len(tags)-2,2)]:\n",
    "        \n",
    "        d[tag_pair] += 1\n",
    "    \n",
    "    return d\n"
   ]
  },
  {
   "cell_type": "code",
   "execution_count": 4,
   "id": "ffa05b8d-29b0-4a5e-ae93-c66c50f4dcc0",
   "metadata": {},
   "outputs": [],
   "source": [
    "# Function that receives the parameters to send to the algorithm\n",
    "# as well as the data that will be used to train the model.\n",
    "def trainHmm(dataList,tagList):\n",
    "    \n",
    "    basic_model = HiddenMarkovModel(name=\"base-hmm-tagger\")\n",
    "\n",
    "    data_pairs =[item for sublist in dataList for item in sublist]\n",
    "\n",
    "    tags = [tag for (word, tag) in data_pairs]\n",
    "    words = [word for (word, tag) in data_pairs]\n",
    "\n",
    "    tags_count=counts(tags)                  #the number of times a tag occured \n",
    "    tag_words_count=pair_counts(tags,words)  #the number of times a pair of (tag,word) ocurred\n",
    "\n",
    "    starting_tag_list=[i[0] for i in tagList]\n",
    "    ending_tag_list=[i[-1] for i in tagList]\n",
    "\n",
    "    starting_tag_count=counts(starting_tag_list)  #the number of times a tag occured at the start\n",
    "    ending_tag_count=counts(ending_tag_list)      #the number of times a tag occured at the end\n",
    "\n",
    "    tag_bigrams = tag_bigram(tags)\n",
    "\n",
    "    to_pass_states = []\n",
    "    for tag, words_dict in tag_words_count.items():\n",
    "        total = float(sum(words_dict.values()))\n",
    "        distribution = {word: count/total for word, count in words_dict.items()}\n",
    "        tag_emissions = DiscreteDistribution(distribution)\n",
    "        tag_state = State(tag_emissions, name=tag)\n",
    "        to_pass_states.append(tag_state)\n",
    "\n",
    "\n",
    "    basic_model.add_states()    \n",
    "\n",
    "\n",
    "    start_prob={}\n",
    "\n",
    "    for tag in tags:\n",
    "        start_prob[tag]=starting_tag_count[tag]/tags_count[tag]\n",
    "\n",
    "    for tag_state in to_pass_states :\n",
    "        basic_model.add_transition(basic_model.start,tag_state,start_prob[tag_state.name])    \n",
    "\n",
    "    end_prob={}\n",
    "\n",
    "    for tag in tags:\n",
    "        end_prob[tag]=ending_tag_count[tag]/tags_count[tag]\n",
    "    for tag_state in to_pass_states :\n",
    "        basic_model.add_transition(tag_state,basic_model.end,end_prob[tag_state.name])\n",
    "\n",
    "\n",
    "\n",
    "    transition_prob_pair={}\n",
    "\n",
    "    for key in tag_bigrams.keys():\n",
    "        transition_prob_pair[key]=tag_bigrams.get(key)/tags_count[key[0]]\n",
    "\n",
    "    for tag_state in to_pass_states :\n",
    "        for next_tag_state in to_pass_states :\n",
    "            basic_model.add_transition(tag_state,next_tag_state,transition_prob_pair[(tag_state.name,next_tag_state.name)])\n",
    "\n",
    "    basic_model.bake()\n",
    "    \n",
    "    return basic_model"
   ]
  },
  {
   "cell_type": "code",
   "execution_count": 5,
   "id": "f6960d3a-ce2e-4e82-b837-138f5422eae3",
   "metadata": {},
   "outputs": [],
   "source": [
    "# Generates a heatmap graph with the data provided.\n",
    "# 'true_values' corresponds to the real labels of the data,\n",
    "# 'pred' are the labels predicted by the model and 'values'\n",
    "# are all the possible labels.\n",
    "def heatmapGraph(true_values,pred,values):\n",
    "\n",
    "    cm = confusion_matrix(true_values,pred, labels=values)\n",
    "    ax= plt.subplot()\n",
    "    sn.heatmap(cm, annot=True, ax = ax, cmap='Blues', fmt=\"d\")\n",
    "    ax.set_title('Confusion Matrix')\n",
    "       \n",
    "    ax.set_xlabel(\"Prediction\")\n",
    "    ax.set_ylabel(\"Real Values\")\n",
    "        \n",
    "    ax.xaxis.set_ticklabels(values)\n",
    "    ax.yaxis.set_ticklabels(values)\n",
    "    return"
   ]
  },
  {
   "cell_type": "code",
   "execution_count": 6,
   "id": "c1d4caa7-d8b3-4852-9c41-e1da034cf21d",
   "metadata": {},
   "outputs": [],
   "source": [
    "# Function that runs the model with the test data, it receives\n",
    "# the model, the data as features (x_test) and the labels corresponding\n",
    "# the data (y_test). It also generates the classification report,\n",
    "# calculates the training and testing accuracy and calls the \n",
    "# heatmap graph function.\n",
    "def testHmm(model,trainDataX,trainDataY,testDataX,testDataY):\n",
    "    \n",
    "    hmm_training_acc, train_pred= accuracy(trainDataX, trainDataY, basic_model)\n",
    "    print(\"Training accuracy basic hmm model: {:.2f}%\".format(100 * hmm_training_acc))\n",
    "\n",
    "    hmm_testing_acc, test_pred= accuracy(testDataX, testDataY, basic_model)\n",
    "    print(\"Testing accuracy basic hmm model: {:.2f}%\".format(100 * hmm_testing_acc))\n",
    "    \n",
    "\n",
    "    testDataYFlat = [item for sublist in testDataY for item in sublist]\n",
    "    \n",
    "    print(classification_report(testDataYFlat,test_pred, digits=4))\n",
    "\n",
    "    heatmapGraph(testDataYFlat,test_pred,['B','I','O'])\n",
    "    \n",
    "    \n",
    "    return test_pred"
   ]
  },
  {
   "cell_type": "markdown",
   "id": "e91ede46-d4e4-4432-8b43-58888cb5b1c2",
   "metadata": {},
   "source": [
    "**Algorithm sources**\n",
    "\n",
    "https://github.com/susanli2016/NLP-with-Python/blob/master/Hidden%20Markov%20Models%20for%20POS.ipynb"
   ]
  },
  {
   "cell_type": "markdown",
   "id": "8f047353-5c58-4804-b195-4ea280387590",
   "metadata": {},
   "source": [
    "**Testing the algorithm with the data**"
   ]
  },
  {
   "cell_type": "code",
   "execution_count": 7,
   "id": "df5a09ab-08d7-4f1d-a294-f281ffb1fb41",
   "metadata": {},
   "outputs": [
    {
     "name": "stderr",
     "output_type": "stream",
     "text": [
      "d:\\program files\\python\\python 3.8.6\\lib\\site-packages\\IPython\\core\\interactiveshell.py:3165: DtypeWarning: Columns (1,3) have mixed types.Specify dtype option on import or set low_memory=False.\n",
      "  has_raised = await self.run_ast_nodes(code_ast.body, cell_name,\n",
      "<ipython-input-7-4f15dc96cc7b>:3: FutureWarning: Indexing with multiple keys (implicitly converted to a tuple of keys) will be deprecated, use a list instead.\n",
      "  datos = datos.groupby('sequence')['token','pos','ner_tag'].agg(list)\n"
     ]
    },
    {
     "name": "stdout",
     "output_type": "stream",
     "text": [
      "Training accuracy basic hmm model: 99.22%\n",
      "Testing accuracy basic hmm model: 99.08%\n",
      "              precision    recall  f1-score   support\n",
      "\n",
      "           B     0.9776    0.9824    0.9800      4261\n",
      "           I     0.8346    0.9713    0.8977       348\n",
      "           O     0.9962    0.9927    0.9945     22137\n",
      "\n",
      "    accuracy                         0.9908     26746\n",
      "   macro avg     0.9361    0.9821    0.9574     26746\n",
      "weighted avg     0.9912    0.9908    0.9909     26746\n",
      "\n"
     ]
    },
    {
     "data": {
      "image/png": "[encoded data removed]",
      "text/plain": [
       "<Figure size 432x288 with 2 Axes>"
      ]
     },
     "metadata": {
      "needs_background": "light"
     },
     "output_type": "display_data"
    }
   ],
   "source": [
    "datos = pd.read_csv(\"data/atta_specimen_ner.csv\",keep_default_na=False, na_values=[''])\n",
    "\n",
    "datos = datos.groupby('sequence')['token','pos','ner_tag'].agg(list)\n",
    "\n",
    "tokenList = datos['token'].tolist()\n",
    "tagList = datos['ner_tag'].tolist()\n",
    "\n",
    "dataList = []\n",
    "for x,y in zip(tokenList,tagList):\n",
    "    dataList.append(list(zip(x,y)))\n",
    "    \n",
    "trainDataX,testDataX,trainDataY,testDataY = train_test_split(tokenList,tagList, test_size=0.2, random_state = 42)\n",
    "\n",
    "trainVocab =set([item for sublist in trainDataX for item in sublist])\n",
    "\n",
    "basic_model = trainHmm(dataList,tagList)\n",
    "\n",
    "preds = testHmm(basic_model,trainDataX,trainDataY,testDataX,testDataY)"
   ]
  },
  {
   "cell_type": "code",
   "execution_count": null,
   "id": "654f3f7c-5887-4476-b41c-8061e700c617",
   "metadata": {},
   "outputs": [],
   "source": [
    "for i in range(0,len(testDataX)):\n",
    "    print(\"Sentence : {}\\n\".format(testDataX[i]))\n",
    "    print(\"Index of data: {}\\n\".format(i))\n",
    "    print(\"Predicted labels:\\n-----------------\")\n",
    "    print(simplify_decoding(testDataX[i], basic_model))\n",
    "    print()\n",
    "    print(\"Actual labels:\\n--------------\")\n",
    "    print(testDataY[i])\n",
    "    print(\"\\n\")"
   ]
  },
  {
   "cell_type": "code",
   "execution_count": null,
   "id": "a5cb497d-b36b-4d9c-9c8c-5643a269b812",
   "metadata": {},
   "outputs": [],
   "source": []
  }
 ],
 "metadata": {
  "kernelspec": {
   "display_name": "Python 3",
   "language": "python",
   "name": "python3"
  },
  "language_info": {
   "codemirror_mode": {
    "name": "ipython",
    "version": 3
   },
   "file_extension": ".py",
   "mimetype": "text/x-python",
   "name": "python",
   "nbconvert_exporter": "python",
   "pygments_lexer": "ipython3",
   "version": "3.8.6"
  }
 },
 "nbformat": 4,
 "nbformat_minor": 5
}
