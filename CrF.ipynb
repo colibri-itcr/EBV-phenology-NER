{
 "cells": [
  {
   "cell_type": "code",
   "execution_count": 1,
   "id": "ff659300-3009-4a4c-9db1-c9623220a228",
   "metadata": {},
   "outputs": [],
   "source": [
    "import pandas as pd\n",
    "import numpy as np\n",
    "import seaborn as sn\n",
    "\n",
    "import matplotlib.pyplot as plt\n",
    "\n",
    "import os\n",
    "import string\n",
    "\n",
    "import pycrfsuite\n",
    "\n",
    "import nltk, re, pprint\n",
    "\n",
    "from nltk.tokenize import word_tokenize\n",
    "\n",
    "from sklearn.model_selection import train_test_split\n",
    "\n",
    "from sklearn.metrics import classification_report, confusion_matrix\n"
   ]
  },
  {
   "cell_type": "code",
   "execution_count": 2,
   "id": "6f271b17-945e-4045-8a89-60a8ddafcc22",
   "metadata": {},
   "outputs": [],
   "source": [
    "# Checks if token corresponds to a punctuation mark\n",
    "def is_punctuation(token):\n",
    "    return token in set(string.punctuation)\n",
    "\n",
    "# Receives a word (token,postag,label) and converts it into a \n",
    "# feature that contains characteristics of it and if it applies\n",
    "# contains also characteristics about the word before and after it.\n",
    "# 'sent' correspond to the word in question and 'i' corresponds to the \n",
    "# index of the word in the sentence.\n",
    "def word2features(sent, i):\n",
    "    word = sent[i][0]\n",
    "    postag = sent[i][1]\n",
    "\n",
    "    features = {\n",
    "        'bias': 1.0,\n",
    "        'word.lower()': word.lower(),\n",
    "        'word[-3:]': word[-3:],\n",
    "        'word.istitle()': word.istitle(),\n",
    "        'word.isdigit()': word.isdigit(),\n",
    "        'word.ispunct()': is_punctuation(word),\n",
    "        'postag': postag,\n",
    "        'postag[:2]': postag[:2],\n",
    "    }\n",
    "    \n",
    "    if i > 0:\n",
    "        word1 = sent[i-1][0]\n",
    "        postag1 = sent[i-1][1]\n",
    "        features.update({\n",
    "            '-1:word.lower()': word1.lower(),\n",
    "            '-1:word.istitle()': word1.istitle(),\n",
    "            '-1:word.isdigit()': word1.isdigit(),\n",
    "            '-1:word.ispunct()': is_punctuation(word1),\n",
    "            '-1:postag': postag1,\n",
    "            '-1:postag[:2]': postag1[:2],\n",
    "        })\n",
    "    else:\n",
    "        features['BOS'] = True\n",
    "\n",
    "    if i < len(sent)-1:\n",
    "        word1 = sent[i+1][0]\n",
    "        postag1 = sent[i+1][1]\n",
    "        features.update({\n",
    "            '+1:word.lower()': word1.lower(),\n",
    "            '+1:word.istitle()': word1.istitle(),\n",
    "            '+1:word.isdigit()': word1.isdigit(),\n",
    "            '+1:word.ispunct()': is_punctuation(word1),\n",
    "            '+1:postag': postag1,\n",
    "            '+1:postag[:2]': postag1[:2],\n",
    "        })\n",
    "    else:\n",
    "        features['EOS'] = True\n",
    "\n",
    "    return features\n",
    "\n",
    "# Converts every word (token,postag,label) into a feature, then returns\n",
    "# the list of converted features\n",
    "def sent2features(sent):\n",
    "    return [word2features(sent, i) for i in range(len(sent))]\n",
    "\n",
    "# Extracts only the labels of the dataset, when the data is in the form: (token,pos,label)\n",
    "# Returns a list of labels with the same structure as the dataset\n",
    "def sent2labels(sent):\n",
    "    return [label for token, postag, label in sent]\n",
    "\n",
    "# Extracts only the tokens of the dataset, when the data is in the form: (token,pos,label)\n",
    "# Returns a list of tokens with the same structure as the dataset\n",
    "def sent2tokens(sent):\n",
    "    return [token for token, postag, label in sent]\n"
   ]
  },
  {
   "cell_type": "code",
   "execution_count": 3,
   "id": "820e87f1-02eb-44e4-9b64-e71173456dbe",
   "metadata": {},
   "outputs": [],
   "source": [
    "# Prepares the data to be used in the algorithm, converts every\n",
    "# word into a feature and separates the labels from the data.\n",
    "# Data format used: [[(token,postag,label),...],[...]]\n",
    "def prepareDataCrF(train_data,test_data):\n",
    "    \n",
    "    X_train = [sent2features(s) for s in train_data]\n",
    "    y_train = [sent2labels(s) for s in train_data]\n",
    "\n",
    "    X_test = [sent2features(s) for s in test_data]\n",
    "    y_test = [sent2labels(s) for s in test_data]\n",
    "    \n",
    "    return X_train,y_train,X_test,y_test"
   ]
  },
  {
   "cell_type": "code",
   "execution_count": 4,
   "id": "7d786b35-9712-48bb-a4d3-d2323ba0b0fb",
   "metadata": {},
   "outputs": [],
   "source": [
    "# Function that receives the parameters to send to the algorithm\n",
    "# as well as the data that will be used to train the model.\n",
    "def trainCrF(x_train,y_train,c1,c2,max_iterations):\n",
    "    \n",
    "    loss = [] # code added to store the loss of every iteration\n",
    "    data_long = len(x_train)\n",
    "    trainer = pycrfsuite.Trainer(verbose=False)\n",
    "\n",
    "    trainer.set_params({\n",
    "        'c1': c1,   # coefficient for L1 penalty\n",
    "        'c2': c2,  # coefficient for L2 penalty\n",
    "        'max_iterations': max_iterations, \n",
    "\n",
    "        'feature.possible_transitions': True\n",
    "    })\n",
    "\n",
    "    # We are feeding our training set to the algorithm here.\n",
    "    for xseq, yseq in zip(x_train, y_train):\n",
    "        trainer.append(xseq, yseq)\n",
    "    \n",
    "    trainer.train('model/vuelax-bad.crfsuite')\n",
    "    \n",
    "    crf_tagger = pycrfsuite.Tagger()\n",
    "    crf_tagger.open('model/vuelax-bad.crfsuite')\n",
    "    \n",
    "    for iteration in trainer.logparser.iterations:\n",
    "        loss.append(iteration['loss']/data_long)\n",
    "\n",
    "    return crf_tagger, loss"
   ]
  },
  {
   "cell_type": "code",
   "execution_count": 5,
   "id": "e200349d-def3-4287-9a62-9f8daf0964dd",
   "metadata": {},
   "outputs": [],
   "source": [
    "# Generates a heatmap graph with the data provided.\n",
    "# 'true_values' corresponds to the real labels of the data,\n",
    "# 'pred' are the labels predicted by the model and 'values'\n",
    "# are all the possible labels.\n",
    "def heatmapGraph(true_values,pred,values):\n",
    "\n",
    "    cm = confusion_matrix(true_values,pred, labels=values)\n",
    "    ax= plt.subplot()\n",
    "    sn.heatmap(cm, annot=True, ax = ax, cmap='Blues', fmt=\"d\")\n",
    "    ax.set_title('Confusion Matrix')\n",
    "       \n",
    "    ax.set_xlabel(\"Prediction\")\n",
    "    ax.set_ylabel(\"Real Values\")\n",
    "        \n",
    "    ax.xaxis.set_ticklabels(values)\n",
    "    ax.yaxis.set_ticklabels(values)\n",
    "    return\n",
    "    \n",
    "    "
   ]
  },
  {
   "cell_type": "code",
   "execution_count": 6,
   "id": "4f3609df-0368-4340-9b15-47af3c6fb7b6",
   "metadata": {},
   "outputs": [],
   "source": [
    "# Function that runs the model with the test data, it receives\n",
    "# the model, the data as features (x_test) and the labels corresponding\n",
    "# the data (y_test). It also generates the classification report\n",
    "# and calls the heatmap graph function.\n",
    "def testCrF(model,x_test,y_test):\n",
    "    \n",
    "    all_true, all_pred = [], []\n",
    "    predictions = []\n",
    "\n",
    "    for i in range(len(x_test)):\n",
    "        all_true.extend(y_test[i])\n",
    "        pred = model.tag(x_test[i])\n",
    "        all_pred.extend(pred)\n",
    "        predictions.append(pred)\n",
    "    \n",
    "    print(classification_report(all_true, all_pred, digits=4))\n",
    "    heatmapGraph(all_true, all_pred, ['B','I','O'])\n",
    "    return predictions"
   ]
  },
  {
   "cell_type": "markdown",
   "id": "87284021-15e8-4809-bc04-bad2ca04e340",
   "metadata": {},
   "source": [
    "**Algorithm sources**\n",
    "\n",
    "https://eli5.readthedocs.io/en/latest/tutorials/sklearn_crfsuite.html\n",
    "\n",
    "https://dev.to/fferegrino/conditional-random-fields-in-python-sequence-labelling-part-4-5ei2\n"
   ]
  },
  {
   "cell_type": "markdown",
   "id": "93aab1d7-94d8-41da-bb79-0ee8b844aeed",
   "metadata": {},
   "source": [
    "**Testing the algorithm with the data**"
   ]
  },
  {
   "cell_type": "code",
   "execution_count": 8,
   "id": "8b49f068-fc83-4e3f-b7ed-b35c499477ab",
   "metadata": {},
   "outputs": [
    {
     "name": "stderr",
     "output_type": "stream",
     "text": [
      "<ipython-input-8-788c9c94c338>:3: FutureWarning: Indexing with multiple keys (implicitly converted to a tuple of keys) will be deprecated, use a list instead.\n",
      "  datos = datos.groupby('sequence')['token','pos','ner_tag'].agg(list)\n"
     ]
    },
    {
     "name": "stdout",
     "output_type": "stream",
     "text": [
      "              precision    recall  f1-score   support\n",
      "\n",
      "           B     0.9799    0.9739    0.9769      4261\n",
      "           I     0.9480    0.8908    0.9185       348\n",
      "           O     0.9933    0.9954    0.9943     22137\n",
      "\n",
      "    accuracy                         0.9906     26746\n",
      "   macro avg     0.9737    0.9534    0.9633     26746\n",
      "weighted avg     0.9906    0.9906    0.9906     26746\n",
      "\n"
     ]
    },
    {
     "data": {
      "image/png": "[encoded data removed]",
      "text/plain": [
       "<Figure size 432x288 with 2 Axes>"
      ]
     },
     "metadata": {
      "needs_background": "light"
     },
     "output_type": "display_data"
    }
   ],
   "source": [
    "datos = pd.read_csv(\"data/atta_specimen_ner.csv\",keep_default_na=False, na_values=[''])\n",
    "\n",
    "datos = datos.groupby('sequence')['token','pos','ner_tag'].agg(list)\n",
    "\n",
    "\n",
    "tokenList = datos['token'].tolist()\n",
    "posList = datos['pos'].tolist()\n",
    "tagList = datos['ner_tag'].tolist()\n",
    "\n",
    "dataList = []\n",
    "for x,y,z in zip(tokenList,posList,tagList):\n",
    "    dataList.append(list(zip(x,y,z)))\n",
    "    \n",
    "trainData, testData = train_test_split(dataList, test_size=0.2, random_state = 42)\n",
    "\n",
    "X_train,y_train,X_test,y_test = prepareDataCrF(trainData,testData)\n",
    "\n",
    "model, loss = trainCrF(X_train,y_train,0.1,0.1,40)  \n",
    "\n",
    "y_preds = testCrF(model,X_test,y_test)\n",
    "\n"
   ]
  },
  {
   "cell_type": "code",
   "execution_count": 21,
   "id": "01bd198f-0fff-4d2d-b96b-deb663ed5d7f",
   "metadata": {},
   "outputs": [
    {
     "data": {
      "image/png": "[encoded data removed]",
      "text/plain": [
       "<Figure size 432x288 with 1 Axes>"
      ]
     },
     "metadata": {
      "needs_background": "light"
     },
     "output_type": "display_data"
    }
   ],
   "source": [
    "# Graph of the difference between the predicted labels and the real ones\n",
    "# in each epoch.\n",
    "\n",
    "plt.plot(range(1, len(loss) + 1), loss, marker='o')\n",
    "plt.xlabel('Epochs')\n",
    "plt.tight_layout()\n",
    "plt.show()"
   ]
  },
  {
   "cell_type": "code",
   "execution_count": null,
   "id": "b6860a35-5d08-4424-afb4-6c1d1288b9f6",
   "metadata": {},
   "outputs": [],
   "source": [
    "# For to print the sentences in which there were errors, its printed as \n",
    "# (token,real label, predicted label)\n",
    "\n",
    "for i in range(len(X_test)):\n",
    "    if y_test[i] != y_preds[i]:\n",
    "        \n",
    "        lista_tokens = list(map(lambda x: x['word.lower()'],X_test[i]))\n",
    "        print(\"Sentence:\")\n",
    "        print(list(zip(lista_tokens,y_test[i],y_preds[i])))\n",
    "        "
   ]
  },
  {
   "cell_type": "code",
   "execution_count": null,
   "id": "78376922-9ef6-4371-9ec8-7416bbdd3aaf",
   "metadata": {},
   "outputs": [],
   "source": []
  }
 ],
 "metadata": {
  "kernelspec": {
   "display_name": "Python 3",
   "language": "python",
   "name": "python3"
  },
  "language_info": {
   "codemirror_mode": {
    "name": "ipython",
    "version": 3
   },
   "file_extension": ".py",
   "mimetype": "text/x-python",
   "name": "python",
   "nbconvert_exporter": "python",
   "pygments_lexer": "ipython3",
   "version": "3.8.6"
  }
 },
 "nbformat": 4,
 "nbformat_minor": 5
}
